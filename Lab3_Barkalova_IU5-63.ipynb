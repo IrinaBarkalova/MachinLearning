{
 "cells": [
  {
   "cell_type": "code",
   "execution_count": 2,
   "metadata": {
    "collapsed": true
   },
   "outputs": [],
   "source": [
    "import numpy as np\n",
    "import pandas as pd\n",
    "from sklearn.datasets import *\n",
    "import seaborn as sns\n",
    "import matplotlib.pyplot as plt\n",
    "%matplotlib inline\n",
    "sns.set(style =\"ticks\")"
   ]
  },
  {
   "cell_type": "code",
   "execution_count": 3,
   "outputs": [],
   "source": [
    "wine = load_wine()"
   ],
   "metadata": {
    "collapsed": false,
    "pycharm": {
     "name": "#%%\n"
    }
   }
  },
  {
   "cell_type": "code",
   "execution_count": 4,
   "outputs": [
    {
     "data": {
      "text/plain": "(178, 13)"
     },
     "execution_count": 4,
     "metadata": {},
     "output_type": "execute_result"
    }
   ],
   "source": [
    "wine['data'].shape"
   ],
   "metadata": {
    "collapsed": false,
    "pycharm": {
     "name": "#%%\n"
    }
   }
  },
  {
   "cell_type": "code",
   "execution_count": 5,
   "outputs": [
    {
     "name": "stdout",
     "output_type": "stream",
     "text": [
      "data\n",
      "target\n",
      "frame\n",
      "target_names\n",
      "DESCR\n",
      "feature_names\n"
     ]
    }
   ],
   "source": [
    "for x in wine:\n",
    "    print(x)"
   ],
   "metadata": {
    "collapsed": false,
    "pycharm": {
     "name": "#%%\n"
    }
   }
  },
  {
   "cell_type": "code",
   "execution_count": 6,
   "outputs": [],
   "source": [
    "data = pd.DataFrame(data= np.c_[wine['data'], wine['target']],\n",
    "                   columns= wine['feature_names'] + ['target'])"
   ],
   "metadata": {
    "collapsed": false,
    "pycharm": {
     "name": "#%%\n"
    }
   }
  },
  {
   "cell_type": "code",
   "execution_count": 7,
   "outputs": [
    {
     "data": {
      "text/plain": "     alcohol  malic_acid   ash  alcalinity_of_ash  magnesium  total_phenols  \\\n0      14.23        1.71  2.43               15.6      127.0           2.80   \n1      13.20        1.78  2.14               11.2      100.0           2.65   \n2      13.16        2.36  2.67               18.6      101.0           2.80   \n3      14.37        1.95  2.50               16.8      113.0           3.85   \n4      13.24        2.59  2.87               21.0      118.0           2.80   \n..       ...         ...   ...                ...        ...            ...   \n173    13.71        5.65  2.45               20.5       95.0           1.68   \n174    13.40        3.91  2.48               23.0      102.0           1.80   \n175    13.27        4.28  2.26               20.0      120.0           1.59   \n176    13.17        2.59  2.37               20.0      120.0           1.65   \n177    14.13        4.10  2.74               24.5       96.0           2.05   \n\n     flavanoids  nonflavanoid_phenols  proanthocyanins  color_intensity   hue  \\\n0          3.06                  0.28             2.29             5.64  1.04   \n1          2.76                  0.26             1.28             4.38  1.05   \n2          3.24                  0.30             2.81             5.68  1.03   \n3          3.49                  0.24             2.18             7.80  0.86   \n4          2.69                  0.39             1.82             4.32  1.04   \n..          ...                   ...              ...              ...   ...   \n173        0.61                  0.52             1.06             7.70  0.64   \n174        0.75                  0.43             1.41             7.30  0.70   \n175        0.69                  0.43             1.35            10.20  0.59   \n176        0.68                  0.53             1.46             9.30  0.60   \n177        0.76                  0.56             1.35             9.20  0.61   \n\n     od280/od315_of_diluted_wines  proline  target  \n0                            3.92   1065.0     0.0  \n1                            3.40   1050.0     0.0  \n2                            3.17   1185.0     0.0  \n3                            3.45   1480.0     0.0  \n4                            2.93    735.0     0.0  \n..                            ...      ...     ...  \n173                          1.74    740.0     2.0  \n174                          1.56    750.0     2.0  \n175                          1.56    835.0     2.0  \n176                          1.62    840.0     2.0  \n177                          1.60    560.0     2.0  \n\n[178 rows x 14 columns]",
      "text/html": "<div>\n<style scoped>\n    .dataframe tbody tr th:only-of-type {\n        vertical-align: middle;\n    }\n\n    .dataframe tbody tr th {\n        vertical-align: top;\n    }\n\n    .dataframe thead th {\n        text-align: right;\n    }\n</style>\n<table border=\"1\" class=\"dataframe\">\n  <thead>\n    <tr style=\"text-align: right;\">\n      <th></th>\n      <th>alcohol</th>\n      <th>malic_acid</th>\n      <th>ash</th>\n      <th>alcalinity_of_ash</th>\n      <th>magnesium</th>\n      <th>total_phenols</th>\n      <th>flavanoids</th>\n      <th>nonflavanoid_phenols</th>\n      <th>proanthocyanins</th>\n      <th>color_intensity</th>\n      <th>hue</th>\n      <th>od280/od315_of_diluted_wines</th>\n      <th>proline</th>\n      <th>target</th>\n    </tr>\n  </thead>\n  <tbody>\n    <tr>\n      <th>0</th>\n      <td>14.23</td>\n      <td>1.71</td>\n      <td>2.43</td>\n      <td>15.6</td>\n      <td>127.0</td>\n      <td>2.80</td>\n      <td>3.06</td>\n      <td>0.28</td>\n      <td>2.29</td>\n      <td>5.64</td>\n      <td>1.04</td>\n      <td>3.92</td>\n      <td>1065.0</td>\n      <td>0.0</td>\n    </tr>\n    <tr>\n      <th>1</th>\n      <td>13.20</td>\n      <td>1.78</td>\n      <td>2.14</td>\n      <td>11.2</td>\n      <td>100.0</td>\n      <td>2.65</td>\n      <td>2.76</td>\n      <td>0.26</td>\n      <td>1.28</td>\n      <td>4.38</td>\n      <td>1.05</td>\n      <td>3.40</td>\n      <td>1050.0</td>\n      <td>0.0</td>\n    </tr>\n    <tr>\n      <th>2</th>\n      <td>13.16</td>\n      <td>2.36</td>\n      <td>2.67</td>\n      <td>18.6</td>\n      <td>101.0</td>\n      <td>2.80</td>\n      <td>3.24</td>\n      <td>0.30</td>\n      <td>2.81</td>\n      <td>5.68</td>\n      <td>1.03</td>\n      <td>3.17</td>\n      <td>1185.0</td>\n      <td>0.0</td>\n    </tr>\n    <tr>\n      <th>3</th>\n      <td>14.37</td>\n      <td>1.95</td>\n      <td>2.50</td>\n      <td>16.8</td>\n      <td>113.0</td>\n      <td>3.85</td>\n      <td>3.49</td>\n      <td>0.24</td>\n      <td>2.18</td>\n      <td>7.80</td>\n      <td>0.86</td>\n      <td>3.45</td>\n      <td>1480.0</td>\n      <td>0.0</td>\n    </tr>\n    <tr>\n      <th>4</th>\n      <td>13.24</td>\n      <td>2.59</td>\n      <td>2.87</td>\n      <td>21.0</td>\n      <td>118.0</td>\n      <td>2.80</td>\n      <td>2.69</td>\n      <td>0.39</td>\n      <td>1.82</td>\n      <td>4.32</td>\n      <td>1.04</td>\n      <td>2.93</td>\n      <td>735.0</td>\n      <td>0.0</td>\n    </tr>\n    <tr>\n      <th>...</th>\n      <td>...</td>\n      <td>...</td>\n      <td>...</td>\n      <td>...</td>\n      <td>...</td>\n      <td>...</td>\n      <td>...</td>\n      <td>...</td>\n      <td>...</td>\n      <td>...</td>\n      <td>...</td>\n      <td>...</td>\n      <td>...</td>\n      <td>...</td>\n    </tr>\n    <tr>\n      <th>173</th>\n      <td>13.71</td>\n      <td>5.65</td>\n      <td>2.45</td>\n      <td>20.5</td>\n      <td>95.0</td>\n      <td>1.68</td>\n      <td>0.61</td>\n      <td>0.52</td>\n      <td>1.06</td>\n      <td>7.70</td>\n      <td>0.64</td>\n      <td>1.74</td>\n      <td>740.0</td>\n      <td>2.0</td>\n    </tr>\n    <tr>\n      <th>174</th>\n      <td>13.40</td>\n      <td>3.91</td>\n      <td>2.48</td>\n      <td>23.0</td>\n      <td>102.0</td>\n      <td>1.80</td>\n      <td>0.75</td>\n      <td>0.43</td>\n      <td>1.41</td>\n      <td>7.30</td>\n      <td>0.70</td>\n      <td>1.56</td>\n      <td>750.0</td>\n      <td>2.0</td>\n    </tr>\n    <tr>\n      <th>175</th>\n      <td>13.27</td>\n      <td>4.28</td>\n      <td>2.26</td>\n      <td>20.0</td>\n      <td>120.0</td>\n      <td>1.59</td>\n      <td>0.69</td>\n      <td>0.43</td>\n      <td>1.35</td>\n      <td>10.20</td>\n      <td>0.59</td>\n      <td>1.56</td>\n      <td>835.0</td>\n      <td>2.0</td>\n    </tr>\n    <tr>\n      <th>176</th>\n      <td>13.17</td>\n      <td>2.59</td>\n      <td>2.37</td>\n      <td>20.0</td>\n      <td>120.0</td>\n      <td>1.65</td>\n      <td>0.68</td>\n      <td>0.53</td>\n      <td>1.46</td>\n      <td>9.30</td>\n      <td>0.60</td>\n      <td>1.62</td>\n      <td>840.0</td>\n      <td>2.0</td>\n    </tr>\n    <tr>\n      <th>177</th>\n      <td>14.13</td>\n      <td>4.10</td>\n      <td>2.74</td>\n      <td>24.5</td>\n      <td>96.0</td>\n      <td>2.05</td>\n      <td>0.76</td>\n      <td>0.56</td>\n      <td>1.35</td>\n      <td>9.20</td>\n      <td>0.61</td>\n      <td>1.60</td>\n      <td>560.0</td>\n      <td>2.0</td>\n    </tr>\n  </tbody>\n</table>\n<p>178 rows × 14 columns</p>\n</div>"
     },
     "execution_count": 7,
     "metadata": {},
     "output_type": "execute_result"
    }
   ],
   "source": [
    "data"
   ],
   "metadata": {
    "collapsed": false,
    "pycharm": {
     "name": "#%%\n"
    }
   }
  },
  {
   "cell_type": "code",
   "execution_count": 8,
   "outputs": [
    {
     "data": {
      "text/plain": "alcohol                         float64\nmalic_acid                      float64\nash                             float64\nalcalinity_of_ash               float64\nmagnesium                       float64\ntotal_phenols                   float64\nflavanoids                      float64\nnonflavanoid_phenols            float64\nproanthocyanins                 float64\ncolor_intensity                 float64\nhue                             float64\nod280/od315_of_diluted_wines    float64\nproline                         float64\ntarget                          float64\ndtype: object"
     },
     "execution_count": 8,
     "metadata": {},
     "output_type": "execute_result"
    }
   ],
   "source": [
    "data.dtypes"
   ],
   "metadata": {
    "collapsed": false,
    "pycharm": {
     "name": "#%%\n"
    }
   }
  },
  {
   "cell_type": "code",
   "execution_count": 9,
   "outputs": [],
   "source": [
    "data1 = pd.read_csv('penguins_size.csv', sep=',')"
   ],
   "metadata": {
    "collapsed": false,
    "pycharm": {
     "name": "#%%\n"
    }
   }
  },
  {
   "cell_type": "code",
   "execution_count": 10,
   "outputs": [
    {
     "data": {
      "text/plain": "    species     island  culmen_length_mm  culmen_depth_mm  flipper_length_mm  \\\n0    Adelie  Torgersen              39.1             18.7              181.0   \n1    Adelie  Torgersen              39.5             17.4              186.0   \n2    Adelie  Torgersen              40.3             18.0              195.0   \n3    Adelie  Torgersen               NaN              NaN                NaN   \n4    Adelie  Torgersen              36.7             19.3              193.0   \n..      ...        ...               ...              ...                ...   \n339  Gentoo     Biscoe               NaN              NaN                NaN   \n340  Gentoo     Biscoe              46.8             14.3              215.0   \n341  Gentoo     Biscoe              50.4             15.7              222.0   \n342  Gentoo     Biscoe              45.2             14.8              212.0   \n343  Gentoo     Biscoe              49.9             16.1              213.0   \n\n     body_mass_g     sex  \n0         3750.0    MALE  \n1         3800.0  FEMALE  \n2         3250.0  FEMALE  \n3            NaN     NaN  \n4         3450.0  FEMALE  \n..           ...     ...  \n339          NaN     NaN  \n340       4850.0  FEMALE  \n341       5750.0    MALE  \n342       5200.0  FEMALE  \n343       5400.0    MALE  \n\n[344 rows x 7 columns]",
      "text/html": "<div>\n<style scoped>\n    .dataframe tbody tr th:only-of-type {\n        vertical-align: middle;\n    }\n\n    .dataframe tbody tr th {\n        vertical-align: top;\n    }\n\n    .dataframe thead th {\n        text-align: right;\n    }\n</style>\n<table border=\"1\" class=\"dataframe\">\n  <thead>\n    <tr style=\"text-align: right;\">\n      <th></th>\n      <th>species</th>\n      <th>island</th>\n      <th>culmen_length_mm</th>\n      <th>culmen_depth_mm</th>\n      <th>flipper_length_mm</th>\n      <th>body_mass_g</th>\n      <th>sex</th>\n    </tr>\n  </thead>\n  <tbody>\n    <tr>\n      <th>0</th>\n      <td>Adelie</td>\n      <td>Torgersen</td>\n      <td>39.1</td>\n      <td>18.7</td>\n      <td>181.0</td>\n      <td>3750.0</td>\n      <td>MALE</td>\n    </tr>\n    <tr>\n      <th>1</th>\n      <td>Adelie</td>\n      <td>Torgersen</td>\n      <td>39.5</td>\n      <td>17.4</td>\n      <td>186.0</td>\n      <td>3800.0</td>\n      <td>FEMALE</td>\n    </tr>\n    <tr>\n      <th>2</th>\n      <td>Adelie</td>\n      <td>Torgersen</td>\n      <td>40.3</td>\n      <td>18.0</td>\n      <td>195.0</td>\n      <td>3250.0</td>\n      <td>FEMALE</td>\n    </tr>\n    <tr>\n      <th>3</th>\n      <td>Adelie</td>\n      <td>Torgersen</td>\n      <td>NaN</td>\n      <td>NaN</td>\n      <td>NaN</td>\n      <td>NaN</td>\n      <td>NaN</td>\n    </tr>\n    <tr>\n      <th>4</th>\n      <td>Adelie</td>\n      <td>Torgersen</td>\n      <td>36.7</td>\n      <td>19.3</td>\n      <td>193.0</td>\n      <td>3450.0</td>\n      <td>FEMALE</td>\n    </tr>\n    <tr>\n      <th>...</th>\n      <td>...</td>\n      <td>...</td>\n      <td>...</td>\n      <td>...</td>\n      <td>...</td>\n      <td>...</td>\n      <td>...</td>\n    </tr>\n    <tr>\n      <th>339</th>\n      <td>Gentoo</td>\n      <td>Biscoe</td>\n      <td>NaN</td>\n      <td>NaN</td>\n      <td>NaN</td>\n      <td>NaN</td>\n      <td>NaN</td>\n    </tr>\n    <tr>\n      <th>340</th>\n      <td>Gentoo</td>\n      <td>Biscoe</td>\n      <td>46.8</td>\n      <td>14.3</td>\n      <td>215.0</td>\n      <td>4850.0</td>\n      <td>FEMALE</td>\n    </tr>\n    <tr>\n      <th>341</th>\n      <td>Gentoo</td>\n      <td>Biscoe</td>\n      <td>50.4</td>\n      <td>15.7</td>\n      <td>222.0</td>\n      <td>5750.0</td>\n      <td>MALE</td>\n    </tr>\n    <tr>\n      <th>342</th>\n      <td>Gentoo</td>\n      <td>Biscoe</td>\n      <td>45.2</td>\n      <td>14.8</td>\n      <td>212.0</td>\n      <td>5200.0</td>\n      <td>FEMALE</td>\n    </tr>\n    <tr>\n      <th>343</th>\n      <td>Gentoo</td>\n      <td>Biscoe</td>\n      <td>49.9</td>\n      <td>16.1</td>\n      <td>213.0</td>\n      <td>5400.0</td>\n      <td>MALE</td>\n    </tr>\n  </tbody>\n</table>\n<p>344 rows × 7 columns</p>\n</div>"
     },
     "execution_count": 10,
     "metadata": {},
     "output_type": "execute_result"
    }
   ],
   "source": [
    "data1"
   ],
   "metadata": {
    "collapsed": false,
    "pycharm": {
     "name": "#%%\n"
    }
   }
  },
  {
   "cell_type": "code",
   "execution_count": 11,
   "outputs": [
    {
     "data": {
      "text/plain": "species               object\nisland                object\nculmen_length_mm     float64\nculmen_depth_mm      float64\nflipper_length_mm    float64\nbody_mass_g          float64\nsex                   object\ndtype: object"
     },
     "execution_count": 11,
     "metadata": {},
     "output_type": "execute_result"
    }
   ],
   "source": [
    "data1.dtypes"
   ],
   "metadata": {
    "collapsed": false,
    "pycharm": {
     "name": "#%%\n"
    }
   }
  },
  {
   "cell_type": "code",
   "execution_count": 12,
   "outputs": [
    {
     "data": {
      "text/plain": "    species     island  culmen_length_mm  culmen_depth_mm  flipper_length_mm  \\\n0    Adelie  Torgersen              39.1             18.7              181.0   \n1    Adelie  Torgersen              39.5             17.4              186.0   \n2    Adelie  Torgersen              40.3             18.0              195.0   \n4    Adelie  Torgersen              36.7             19.3              193.0   \n5    Adelie  Torgersen              39.3             20.6              190.0   \n..      ...        ...               ...              ...                ...   \n338  Gentoo     Biscoe              47.2             13.7              214.0   \n340  Gentoo     Biscoe              46.8             14.3              215.0   \n341  Gentoo     Biscoe              50.4             15.7              222.0   \n342  Gentoo     Biscoe              45.2             14.8              212.0   \n343  Gentoo     Biscoe              49.9             16.1              213.0   \n\n     body_mass_g     sex  \n0         3750.0    MALE  \n1         3800.0  FEMALE  \n2         3250.0  FEMALE  \n4         3450.0  FEMALE  \n5         3650.0    MALE  \n..           ...     ...  \n338       4925.0  FEMALE  \n340       4850.0  FEMALE  \n341       5750.0    MALE  \n342       5200.0  FEMALE  \n343       5400.0    MALE  \n\n[334 rows x 7 columns]",
      "text/html": "<div>\n<style scoped>\n    .dataframe tbody tr th:only-of-type {\n        vertical-align: middle;\n    }\n\n    .dataframe tbody tr th {\n        vertical-align: top;\n    }\n\n    .dataframe thead th {\n        text-align: right;\n    }\n</style>\n<table border=\"1\" class=\"dataframe\">\n  <thead>\n    <tr style=\"text-align: right;\">\n      <th></th>\n      <th>species</th>\n      <th>island</th>\n      <th>culmen_length_mm</th>\n      <th>culmen_depth_mm</th>\n      <th>flipper_length_mm</th>\n      <th>body_mass_g</th>\n      <th>sex</th>\n    </tr>\n  </thead>\n  <tbody>\n    <tr>\n      <th>0</th>\n      <td>Adelie</td>\n      <td>Torgersen</td>\n      <td>39.1</td>\n      <td>18.7</td>\n      <td>181.0</td>\n      <td>3750.0</td>\n      <td>MALE</td>\n    </tr>\n    <tr>\n      <th>1</th>\n      <td>Adelie</td>\n      <td>Torgersen</td>\n      <td>39.5</td>\n      <td>17.4</td>\n      <td>186.0</td>\n      <td>3800.0</td>\n      <td>FEMALE</td>\n    </tr>\n    <tr>\n      <th>2</th>\n      <td>Adelie</td>\n      <td>Torgersen</td>\n      <td>40.3</td>\n      <td>18.0</td>\n      <td>195.0</td>\n      <td>3250.0</td>\n      <td>FEMALE</td>\n    </tr>\n    <tr>\n      <th>4</th>\n      <td>Adelie</td>\n      <td>Torgersen</td>\n      <td>36.7</td>\n      <td>19.3</td>\n      <td>193.0</td>\n      <td>3450.0</td>\n      <td>FEMALE</td>\n    </tr>\n    <tr>\n      <th>5</th>\n      <td>Adelie</td>\n      <td>Torgersen</td>\n      <td>39.3</td>\n      <td>20.6</td>\n      <td>190.0</td>\n      <td>3650.0</td>\n      <td>MALE</td>\n    </tr>\n    <tr>\n      <th>...</th>\n      <td>...</td>\n      <td>...</td>\n      <td>...</td>\n      <td>...</td>\n      <td>...</td>\n      <td>...</td>\n      <td>...</td>\n    </tr>\n    <tr>\n      <th>338</th>\n      <td>Gentoo</td>\n      <td>Biscoe</td>\n      <td>47.2</td>\n      <td>13.7</td>\n      <td>214.0</td>\n      <td>4925.0</td>\n      <td>FEMALE</td>\n    </tr>\n    <tr>\n      <th>340</th>\n      <td>Gentoo</td>\n      <td>Biscoe</td>\n      <td>46.8</td>\n      <td>14.3</td>\n      <td>215.0</td>\n      <td>4850.0</td>\n      <td>FEMALE</td>\n    </tr>\n    <tr>\n      <th>341</th>\n      <td>Gentoo</td>\n      <td>Biscoe</td>\n      <td>50.4</td>\n      <td>15.7</td>\n      <td>222.0</td>\n      <td>5750.0</td>\n      <td>MALE</td>\n    </tr>\n    <tr>\n      <th>342</th>\n      <td>Gentoo</td>\n      <td>Biscoe</td>\n      <td>45.2</td>\n      <td>14.8</td>\n      <td>212.0</td>\n      <td>5200.0</td>\n      <td>FEMALE</td>\n    </tr>\n    <tr>\n      <th>343</th>\n      <td>Gentoo</td>\n      <td>Biscoe</td>\n      <td>49.9</td>\n      <td>16.1</td>\n      <td>213.0</td>\n      <td>5400.0</td>\n      <td>MALE</td>\n    </tr>\n  </tbody>\n</table>\n<p>334 rows × 7 columns</p>\n</div>"
     },
     "execution_count": 12,
     "metadata": {},
     "output_type": "execute_result"
    }
   ],
   "source": [
    "data1 = data1.dropna(axis=0, how='any')\n",
    "data1.shape\n",
    "data1"
   ],
   "metadata": {
    "collapsed": false,
    "pycharm": {
     "name": "#%%\n"
    }
   }
  },
  {
   "cell_type": "code",
   "execution_count": 13,
   "outputs": [
    {
     "name": "stdout",
     "output_type": "stream",
     "text": [
      "<class 'pandas.core.frame.DataFrame'>\n",
      "Int64Index: 334 entries, 0 to 343\n",
      "Data columns (total 7 columns):\n",
      " #   Column             Non-Null Count  Dtype  \n",
      "---  ------             --------------  -----  \n",
      " 0   species            334 non-null    object \n",
      " 1   island             334 non-null    object \n",
      " 2   culmen_length_mm   334 non-null    float64\n",
      " 3   culmen_depth_mm    334 non-null    float64\n",
      " 4   flipper_length_mm  334 non-null    float64\n",
      " 5   body_mass_g        334 non-null    float64\n",
      " 6   sex                334 non-null    object \n",
      "dtypes: float64(4), object(3)\n",
      "memory usage: 20.9+ KB\n"
     ]
    }
   ],
   "source": [
    "data1.info()"
   ],
   "metadata": {
    "collapsed": false,
    "pycharm": {
     "name": "#%%\n"
    }
   }
  },
  {
   "cell_type": "code",
   "execution_count": 14,
   "outputs": [
    {
     "name": "stderr",
     "output_type": "stream",
     "text": [
      "/tmp/ipykernel_17669/1338443685.py:3: SettingWithCopyWarning: \n",
      "A value is trying to be set on a copy of a slice from a DataFrame.\n",
      "Try using .loc[row_indexer,col_indexer] = value instead\n",
      "\n",
      "See the caveats in the documentation: https://pandas.pydata.org/pandas-docs/stable/user_guide/indexing.html#returning-a-view-versus-a-copy\n",
      "  data1[\"species\"] = data1[\"species\"].astype('category')\n",
      "/tmp/ipykernel_17669/1338443685.py:5: SettingWithCopyWarning: \n",
      "A value is trying to be set on a copy of a slice from a DataFrame.\n",
      "Try using .loc[row_indexer,col_indexer] = value instead\n",
      "\n",
      "See the caveats in the documentation: https://pandas.pydata.org/pandas-docs/stable/user_guide/indexing.html#returning-a-view-versus-a-copy\n",
      "  data1[\"island\"] = data1[\"island\"].astype('category')\n",
      "/tmp/ipykernel_17669/1338443685.py:6: SettingWithCopyWarning: \n",
      "A value is trying to be set on a copy of a slice from a DataFrame.\n",
      "Try using .loc[row_indexer,col_indexer] = value instead\n",
      "\n",
      "See the caveats in the documentation: https://pandas.pydata.org/pandas-docs/stable/user_guide/indexing.html#returning-a-view-versus-a-copy\n",
      "  data1[\"sex\"] = data1[\"sex\"].astype('category')\n",
      "/tmp/ipykernel_17669/1338443685.py:9: SettingWithCopyWarning: \n",
      "A value is trying to be set on a copy of a slice from a DataFrame.\n",
      "Try using .loc[row_indexer,col_indexer] = value instead\n",
      "\n",
      "See the caveats in the documentation: https://pandas.pydata.org/pandas-docs/stable/user_guide/indexing.html#returning-a-view-versus-a-copy\n",
      "  data1[\"species_cat\"] = data1[\"species\"].cat.codes\n",
      "/tmp/ipykernel_17669/1338443685.py:10: SettingWithCopyWarning: \n",
      "A value is trying to be set on a copy of a slice from a DataFrame.\n",
      "Try using .loc[row_indexer,col_indexer] = value instead\n",
      "\n",
      "See the caveats in the documentation: https://pandas.pydata.org/pandas-docs/stable/user_guide/indexing.html#returning-a-view-versus-a-copy\n",
      "  data1[\"island_cat\"] = data1[\"island\"].cat.codes\n",
      "/tmp/ipykernel_17669/1338443685.py:11: SettingWithCopyWarning: \n",
      "A value is trying to be set on a copy of a slice from a DataFrame.\n",
      "Try using .loc[row_indexer,col_indexer] = value instead\n",
      "\n",
      "See the caveats in the documentation: https://pandas.pydata.org/pandas-docs/stable/user_guide/indexing.html#returning-a-view-versus-a-copy\n",
      "  data1[\"sex_cat\"] = data1[\"sex\"].cat.codes\n",
      "/home/iris/.local/lib/python3.9/site-packages/pandas/core/frame.py:4906: SettingWithCopyWarning: \n",
      "A value is trying to be set on a copy of a slice from a DataFrame\n",
      "\n",
      "See the caveats in the documentation: https://pandas.pydata.org/pandas-docs/stable/user_guide/indexing.html#returning-a-view-versus-a-copy\n",
      "  return super().drop(\n"
     ]
    },
    {
     "data": {
      "text/plain": "     culmen_length_mm  culmen_depth_mm  flipper_length_mm  body_mass_g  \\\n0                39.1             18.7              181.0       3750.0   \n1                39.5             17.4              186.0       3800.0   \n2                40.3             18.0              195.0       3250.0   \n4                36.7             19.3              193.0       3450.0   \n5                39.3             20.6              190.0       3650.0   \n..                ...              ...                ...          ...   \n338              47.2             13.7              214.0       4925.0   \n340              46.8             14.3              215.0       4850.0   \n341              50.4             15.7              222.0       5750.0   \n342              45.2             14.8              212.0       5200.0   \n343              49.9             16.1              213.0       5400.0   \n\n     species_cat  island_cat  sex_cat  \n0              0           2        2  \n1              0           2        1  \n2              0           2        1  \n4              0           2        1  \n5              0           2        2  \n..           ...         ...      ...  \n338            2           0        1  \n340            2           0        1  \n341            2           0        2  \n342            2           0        1  \n343            2           0        2  \n\n[334 rows x 7 columns]",
      "text/html": "<div>\n<style scoped>\n    .dataframe tbody tr th:only-of-type {\n        vertical-align: middle;\n    }\n\n    .dataframe tbody tr th {\n        vertical-align: top;\n    }\n\n    .dataframe thead th {\n        text-align: right;\n    }\n</style>\n<table border=\"1\" class=\"dataframe\">\n  <thead>\n    <tr style=\"text-align: right;\">\n      <th></th>\n      <th>culmen_length_mm</th>\n      <th>culmen_depth_mm</th>\n      <th>flipper_length_mm</th>\n      <th>body_mass_g</th>\n      <th>species_cat</th>\n      <th>island_cat</th>\n      <th>sex_cat</th>\n    </tr>\n  </thead>\n  <tbody>\n    <tr>\n      <th>0</th>\n      <td>39.1</td>\n      <td>18.7</td>\n      <td>181.0</td>\n      <td>3750.0</td>\n      <td>0</td>\n      <td>2</td>\n      <td>2</td>\n    </tr>\n    <tr>\n      <th>1</th>\n      <td>39.5</td>\n      <td>17.4</td>\n      <td>186.0</td>\n      <td>3800.0</td>\n      <td>0</td>\n      <td>2</td>\n      <td>1</td>\n    </tr>\n    <tr>\n      <th>2</th>\n      <td>40.3</td>\n      <td>18.0</td>\n      <td>195.0</td>\n      <td>3250.0</td>\n      <td>0</td>\n      <td>2</td>\n      <td>1</td>\n    </tr>\n    <tr>\n      <th>4</th>\n      <td>36.7</td>\n      <td>19.3</td>\n      <td>193.0</td>\n      <td>3450.0</td>\n      <td>0</td>\n      <td>2</td>\n      <td>1</td>\n    </tr>\n    <tr>\n      <th>5</th>\n      <td>39.3</td>\n      <td>20.6</td>\n      <td>190.0</td>\n      <td>3650.0</td>\n      <td>0</td>\n      <td>2</td>\n      <td>2</td>\n    </tr>\n    <tr>\n      <th>...</th>\n      <td>...</td>\n      <td>...</td>\n      <td>...</td>\n      <td>...</td>\n      <td>...</td>\n      <td>...</td>\n      <td>...</td>\n    </tr>\n    <tr>\n      <th>338</th>\n      <td>47.2</td>\n      <td>13.7</td>\n      <td>214.0</td>\n      <td>4925.0</td>\n      <td>2</td>\n      <td>0</td>\n      <td>1</td>\n    </tr>\n    <tr>\n      <th>340</th>\n      <td>46.8</td>\n      <td>14.3</td>\n      <td>215.0</td>\n      <td>4850.0</td>\n      <td>2</td>\n      <td>0</td>\n      <td>1</td>\n    </tr>\n    <tr>\n      <th>341</th>\n      <td>50.4</td>\n      <td>15.7</td>\n      <td>222.0</td>\n      <td>5750.0</td>\n      <td>2</td>\n      <td>0</td>\n      <td>2</td>\n    </tr>\n    <tr>\n      <th>342</th>\n      <td>45.2</td>\n      <td>14.8</td>\n      <td>212.0</td>\n      <td>5200.0</td>\n      <td>2</td>\n      <td>0</td>\n      <td>1</td>\n    </tr>\n    <tr>\n      <th>343</th>\n      <td>49.9</td>\n      <td>16.1</td>\n      <td>213.0</td>\n      <td>5400.0</td>\n      <td>2</td>\n      <td>0</td>\n      <td>2</td>\n    </tr>\n  </tbody>\n</table>\n<p>334 rows × 7 columns</p>\n</div>"
     },
     "execution_count": 14,
     "metadata": {},
     "output_type": "execute_result"
    }
   ],
   "source": [
    "#Кодирование категориальных признаков\n",
    "data1[\"species\"].value_counts()\n",
    "data1[\"species\"] = data1[\"species\"].astype('category')\n",
    "\n",
    "data1[\"island\"] = data1[\"island\"].astype('category')\n",
    "data1[\"sex\"] = data1[\"sex\"].astype('category')\n",
    "\n",
    "#Назначить закодированную переменную новосу столбцу с помощью метода доступа\n",
    "data1[\"species_cat\"] = data1[\"species\"].cat.codes\n",
    "data1[\"island_cat\"] = data1[\"island\"].cat.codes\n",
    "data1[\"sex_cat\"] = data1[\"sex\"].cat.codes\n",
    "data1\n",
    "\n",
    "data1_cat = data1.drop(['species', 'island', 'sex'], axis=1, inplace=True)\n",
    "data1"
   ],
   "metadata": {
    "collapsed": false,
    "pycharm": {
     "name": "#%%\n"
    }
   }
  },
  {
   "cell_type": "code",
   "execution_count": 15,
   "outputs": [
    {
     "data": {
      "text/plain": "     culmen_length_mm  culmen_depth_mm  flipper_length_mm  species_cat  \\\n228              43.3             13.4              209.0            2   \n48               36.0             17.9              190.0            0   \n5                39.3             20.6              190.0            0   \n45               39.6             18.8              190.0            0   \n174              43.2             16.6              187.0            1   \n..                ...              ...                ...          ...   \n284              45.8             14.2              219.0            2   \n263              49.6             15.0              216.0            2   \n137              40.2             20.1              200.0            0   \n256              42.6             13.7              213.0            2   \n158              46.1             18.2              178.0            1   \n\n     island_cat  sex_cat  \n228           0        1  \n48            1        1  \n5             2        2  \n45            1        2  \n174           1        1  \n..          ...      ...  \n284           0        1  \n263           0        2  \n137           1        2  \n256           0        1  \n158           1        1  \n\n[233 rows x 6 columns]",
      "text/html": "<div>\n<style scoped>\n    .dataframe tbody tr th:only-of-type {\n        vertical-align: middle;\n    }\n\n    .dataframe tbody tr th {\n        vertical-align: top;\n    }\n\n    .dataframe thead th {\n        text-align: right;\n    }\n</style>\n<table border=\"1\" class=\"dataframe\">\n  <thead>\n    <tr style=\"text-align: right;\">\n      <th></th>\n      <th>culmen_length_mm</th>\n      <th>culmen_depth_mm</th>\n      <th>flipper_length_mm</th>\n      <th>species_cat</th>\n      <th>island_cat</th>\n      <th>sex_cat</th>\n    </tr>\n  </thead>\n  <tbody>\n    <tr>\n      <th>228</th>\n      <td>43.3</td>\n      <td>13.4</td>\n      <td>209.0</td>\n      <td>2</td>\n      <td>0</td>\n      <td>1</td>\n    </tr>\n    <tr>\n      <th>48</th>\n      <td>36.0</td>\n      <td>17.9</td>\n      <td>190.0</td>\n      <td>0</td>\n      <td>1</td>\n      <td>1</td>\n    </tr>\n    <tr>\n      <th>5</th>\n      <td>39.3</td>\n      <td>20.6</td>\n      <td>190.0</td>\n      <td>0</td>\n      <td>2</td>\n      <td>2</td>\n    </tr>\n    <tr>\n      <th>45</th>\n      <td>39.6</td>\n      <td>18.8</td>\n      <td>190.0</td>\n      <td>0</td>\n      <td>1</td>\n      <td>2</td>\n    </tr>\n    <tr>\n      <th>174</th>\n      <td>43.2</td>\n      <td>16.6</td>\n      <td>187.0</td>\n      <td>1</td>\n      <td>1</td>\n      <td>1</td>\n    </tr>\n    <tr>\n      <th>...</th>\n      <td>...</td>\n      <td>...</td>\n      <td>...</td>\n      <td>...</td>\n      <td>...</td>\n      <td>...</td>\n    </tr>\n    <tr>\n      <th>284</th>\n      <td>45.8</td>\n      <td>14.2</td>\n      <td>219.0</td>\n      <td>2</td>\n      <td>0</td>\n      <td>1</td>\n    </tr>\n    <tr>\n      <th>263</th>\n      <td>49.6</td>\n      <td>15.0</td>\n      <td>216.0</td>\n      <td>2</td>\n      <td>0</td>\n      <td>2</td>\n    </tr>\n    <tr>\n      <th>137</th>\n      <td>40.2</td>\n      <td>20.1</td>\n      <td>200.0</td>\n      <td>0</td>\n      <td>1</td>\n      <td>2</td>\n    </tr>\n    <tr>\n      <th>256</th>\n      <td>42.6</td>\n      <td>13.7</td>\n      <td>213.0</td>\n      <td>2</td>\n      <td>0</td>\n      <td>1</td>\n    </tr>\n    <tr>\n      <th>158</th>\n      <td>46.1</td>\n      <td>18.2</td>\n      <td>178.0</td>\n      <td>1</td>\n      <td>1</td>\n      <td>1</td>\n    </tr>\n  </tbody>\n</table>\n<p>233 rows × 6 columns</p>\n</div>"
     },
     "execution_count": 15,
     "metadata": {},
     "output_type": "execute_result"
    }
   ],
   "source": [
    "#разделение выборки\n",
    "from sklearn.model_selection import train_test_split\n",
    "y = data1['body_mass_g']\n",
    "X = data1.drop('body_mass_g', axis=1)\n",
    "x_train, x_test, y_train, y_test = train_test_split(X, y, test_size=0.3, random_state=3)\n",
    "x_train"
   ],
   "metadata": {
    "collapsed": false,
    "pycharm": {
     "name": "#%%\n"
    }
   }
  },
  {
   "cell_type": "code",
   "execution_count": 16,
   "outputs": [
    {
     "data": {
      "text/plain": "228    4400.0\n48     3450.0\n5      3650.0\n45     4600.0\n174    2900.0\n        ...  \n284    4700.0\n263    4750.0\n137    3975.0\n256    4950.0\n158    3250.0\nName: body_mass_g, Length: 233, dtype: float64"
     },
     "execution_count": 16,
     "metadata": {},
     "output_type": "execute_result"
    }
   ],
   "source": [
    "y_train"
   ],
   "metadata": {
    "collapsed": false,
    "pycharm": {
     "name": "#%%\n"
    }
   }
  },
  {
   "cell_type": "code",
   "execution_count": 17,
   "outputs": [
    {
     "data": {
      "text/plain": "       culmen_length_mm  culmen_depth_mm  flipper_length_mm  species_cat  \\\ncount        233.000000       233.000000         233.000000   233.000000   \nmean           0.409151         0.494781           0.497262     0.463519   \nstd            0.203907         0.238422           0.242362     0.444991   \nmin            0.000000         0.000000           0.000000     0.000000   \n25%            0.245283         0.320988           0.310345     0.000000   \n50%            0.426415         0.518519           0.431034     0.500000   \n75%            0.581132         0.679012           0.724138     1.000000   \nmax            1.000000         1.000000           1.000000     1.000000   \n\n       island_cat     sex_cat  \ncount  233.000000  233.000000  \nmean     0.324034    0.736052  \nstd      0.352243    0.254419  \nmin      0.000000    0.000000  \n25%      0.000000    0.500000  \n50%      0.500000    0.500000  \n75%      0.500000    1.000000  \nmax      1.000000    1.000000  ",
      "text/html": "<div>\n<style scoped>\n    .dataframe tbody tr th:only-of-type {\n        vertical-align: middle;\n    }\n\n    .dataframe tbody tr th {\n        vertical-align: top;\n    }\n\n    .dataframe thead th {\n        text-align: right;\n    }\n</style>\n<table border=\"1\" class=\"dataframe\">\n  <thead>\n    <tr style=\"text-align: right;\">\n      <th></th>\n      <th>culmen_length_mm</th>\n      <th>culmen_depth_mm</th>\n      <th>flipper_length_mm</th>\n      <th>species_cat</th>\n      <th>island_cat</th>\n      <th>sex_cat</th>\n    </tr>\n  </thead>\n  <tbody>\n    <tr>\n      <th>count</th>\n      <td>233.000000</td>\n      <td>233.000000</td>\n      <td>233.000000</td>\n      <td>233.000000</td>\n      <td>233.000000</td>\n      <td>233.000000</td>\n    </tr>\n    <tr>\n      <th>mean</th>\n      <td>0.409151</td>\n      <td>0.494781</td>\n      <td>0.497262</td>\n      <td>0.463519</td>\n      <td>0.324034</td>\n      <td>0.736052</td>\n    </tr>\n    <tr>\n      <th>std</th>\n      <td>0.203907</td>\n      <td>0.238422</td>\n      <td>0.242362</td>\n      <td>0.444991</td>\n      <td>0.352243</td>\n      <td>0.254419</td>\n    </tr>\n    <tr>\n      <th>min</th>\n      <td>0.000000</td>\n      <td>0.000000</td>\n      <td>0.000000</td>\n      <td>0.000000</td>\n      <td>0.000000</td>\n      <td>0.000000</td>\n    </tr>\n    <tr>\n      <th>25%</th>\n      <td>0.245283</td>\n      <td>0.320988</td>\n      <td>0.310345</td>\n      <td>0.000000</td>\n      <td>0.000000</td>\n      <td>0.500000</td>\n    </tr>\n    <tr>\n      <th>50%</th>\n      <td>0.426415</td>\n      <td>0.518519</td>\n      <td>0.431034</td>\n      <td>0.500000</td>\n      <td>0.500000</td>\n      <td>0.500000</td>\n    </tr>\n    <tr>\n      <th>75%</th>\n      <td>0.581132</td>\n      <td>0.679012</td>\n      <td>0.724138</td>\n      <td>1.000000</td>\n      <td>0.500000</td>\n      <td>1.000000</td>\n    </tr>\n    <tr>\n      <th>max</th>\n      <td>1.000000</td>\n      <td>1.000000</td>\n      <td>1.000000</td>\n      <td>1.000000</td>\n      <td>1.000000</td>\n      <td>1.000000</td>\n    </tr>\n  </tbody>\n</table>\n</div>"
     },
     "execution_count": 17,
     "metadata": {},
     "output_type": "execute_result"
    }
   ],
   "source": [
    "#Масштабирование данных\n",
    "from sklearn.preprocessing import MinMaxScaler\n",
    "scaler = MinMaxScaler().fit(x_train)\n",
    "x_train = pd.DataFrame(scaler.transform(x_train), columns = x_train.columns)\n",
    "x_test = pd.DataFrame(scaler.transform(x_test), columns = x_train.columns)\n",
    "x_train.describe()"
   ],
   "metadata": {
    "collapsed": false,
    "pycharm": {
     "name": "#%%\n"
    }
   }
  },
  {
   "cell_type": "code",
   "execution_count": 19,
   "outputs": [
    {
     "name": "stdout",
     "output_type": "stream",
     "text": [
      "Test metrics for knn with k=7\n",
      "\n",
      "R^2: 0.8745411551160632\n",
      "MSE: 81616.61446756922\n",
      "MAE: 224.5049504950495\n"
     ]
    }
   ],
   "source": [
    "from sklearn.neighbors import KNeighborsRegressor\n",
    "from sklearn.metrics import r2_score\n",
    "from sklearn.metrics import mean_squared_error\n",
    "from sklearn.metrics import mean_absolute_error\n",
    "def print_metrics(y_test, y_pred):\n",
    "    print(f\"R^2: {r2_score(y_test, y_pred)}\")\n",
    "    print(f\"MSE: {mean_squared_error(y_test, y_pred)}\")\n",
    "    print(f\"MAE: {mean_absolute_error(y_test, y_pred)}\")\n",
    "\n",
    "def print_cv_result(cv_model, x_test, y_test):\n",
    "    print(f'Optimizacia metrici {cv_model.scoring}: {cv_model.best_score_}')\n",
    "    print(f'Lyshiy parametr {cv_model.best_params_}')\n",
    "    print(f'Metricic na testovom nabore')\n",
    "    print_metrics(y_test, cv_model.predict(x_test))\n",
    "    print()\n",
    "\n",
    "base_k = 7\n",
    "base_knn = KNeighborsRegressor(n_neighbors=base_k)\n",
    "base_knn.fit(x_train, y_train)\n",
    "y_pred_base=base_knn.predict(x_test)\n",
    "print(f'Test metrics for knn with k={base_k}\\n')\n",
    "print_metrics(y_test, y_pred_base)"
   ],
   "metadata": {
    "collapsed": false,
    "pycharm": {
     "name": "#%%\n"
    }
   }
  },
  {
   "cell_type": "code",
   "execution_count": 20,
   "outputs": [
    {
     "name": "stdout",
     "output_type": "stream",
     "text": [
      "Rezultati cross validation for cv=5\n",
      "\n",
      "Optimizacia metrici r2: 0.848412080093014\n",
      "Lyshiy parametr {'n_neighbors': 23}\n",
      "Metricic na testovom nabore\n",
      "R^2: 0.8543978501831682\n",
      "MSE: 94720.73920530049\n",
      "MAE: 244.28540680154978\n",
      "\n",
      "Optimizacia metrici neg_mean_squared_error: -92214.18580342011\n",
      "Lyshiy parametr {'n_neighbors': 23}\n",
      "Metricic na testovom nabore\n",
      "R^2: 0.8543978501831682\n",
      "MSE: 94720.73920530049\n",
      "MAE: 244.28540680154978\n",
      "\n",
      "Optimizacia metrici neg_mean_absolute_error: -240.6154727908941\n",
      "Lyshiy parametr {'n_neighbors': 23}\n",
      "Metricic na testovom nabore\n",
      "R^2: 0.8543978501831682\n",
      "MSE: 94720.73920530049\n",
      "MAE: 244.28540680154978\n",
      "\n",
      "Rezultati cross validation for cv=10\n",
      "\n",
      "Optimizacia metrici r2: 0.8378099672548694\n",
      "Lyshiy parametr {'n_neighbors': 27}\n",
      "Metricic na testovom nabore\n",
      "R^2: 0.8535769986835144\n",
      "MSE: 95254.73998017087\n",
      "MAE: 240.2273560689402\n",
      "\n",
      "Optimizacia metrici neg_mean_squared_error: -92791.22790178127\n",
      "Lyshiy parametr {'n_neighbors': 27}\n",
      "Metricic na testovom nabore\n",
      "R^2: 0.8535769986835144\n",
      "MSE: 95254.73998017087\n",
      "MAE: 240.2273560689402\n",
      "\n",
      "Optimizacia metrici neg_mean_absolute_error: -240.6379159957058\n",
      "Lyshiy parametr {'n_neighbors': 27}\n",
      "Metricic na testovom nabore\n",
      "R^2: 0.8535769986835144\n",
      "MSE: 95254.73998017087\n",
      "MAE: 240.2273560689402\n",
      "\n"
     ]
    }
   ],
   "source": [
    "from sklearn.model_selection import GridSearchCV\n",
    "metrics = ['r2', 'neg_mean_squared_error', 'neg_mean_absolute_error']\n",
    "cv_values=[5, 10]\n",
    "\n",
    "for cv in cv_values:\n",
    "    print(f'Rezultati cross validation for cv={cv}\\n')\n",
    "    for metric in metrics:\n",
    "        params= {'n_neighbors': range(1, 30)}\n",
    "        knn_cv = GridSearchCV(KNeighborsRegressor(), params, cv=cv, scoring=metric, n_jobs=-1)\n",
    "        knn_cv.fit(x_train, y_train)\n",
    "        print_cv_result(knn_cv, x_test, y_test)"
   ],
   "metadata": {
    "collapsed": false,
    "pycharm": {
     "name": "#%%\n"
    }
   }
  },
  {
   "cell_type": "code",
   "execution_count": 21,
   "outputs": [],
   "source": [
    "best_k = 9\n",
    "y_pred_best = KNeighborsRegressor(n_neighbors=best_k).fit(x_train, y_train).predict(x_test)"
   ],
   "metadata": {
    "collapsed": false,
    "pycharm": {
     "name": "#%%\n"
    }
   }
  },
  {
   "cell_type": "code",
   "execution_count": 22,
   "outputs": [
    {
     "name": "stdout",
     "output_type": "stream",
     "text": [
      "Исходная модель\n",
      "\n",
      "R^2: 0.8745411551160632\n",
      "MSE: 81616.61446756922\n",
      "MAE: 224.5049504950495\n",
      "\n",
      "Оптимальная модель\n",
      "\n",
      "R^2: 0.8695487532324968\n",
      "MSE: 84864.39616183842\n",
      "MAE: 230.50055005500556\n"
     ]
    }
   ],
   "source": [
    "#Сравнение исходной и оптимальной модели\n",
    "print('Исходная модель\\n')\n",
    "print_metrics(y_test, y_pred_base)\n",
    "print('\\nОптимальная модель\\n')\n",
    "print_metrics(y_test, y_pred_best)"
   ],
   "metadata": {
    "collapsed": false,
    "pycharm": {
     "name": "#%%\n"
    }
   }
  },
  {
   "cell_type": "code",
   "execution_count": null,
   "outputs": [],
   "source": [],
   "metadata": {
    "collapsed": false,
    "pycharm": {
     "name": "#%%\n"
    }
   }
  }
 ],
 "metadata": {
  "kernelspec": {
   "display_name": "Python 3",
   "language": "python",
   "name": "python3"
  },
  "language_info": {
   "codemirror_mode": {
    "name": "ipython",
    "version": 2
   },
   "file_extension": ".py",
   "mimetype": "text/x-python",
   "name": "python",
   "nbconvert_exporter": "python",
   "pygments_lexer": "ipython2",
   "version": "2.7.6"
  }
 },
 "nbformat": 4,
 "nbformat_minor": 0
}